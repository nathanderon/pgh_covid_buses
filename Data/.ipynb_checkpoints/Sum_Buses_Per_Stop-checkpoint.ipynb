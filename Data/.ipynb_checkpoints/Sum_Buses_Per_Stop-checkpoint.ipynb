{
 "cells": [
  {
   "cell_type": "code",
   "execution_count": 39,
   "metadata": {},
   "outputs": [],
   "source": [
    "import pandas as pd\n",
    "import operator"
   ]
  },
  {
   "cell_type": "code",
   "execution_count": 40,
   "metadata": {},
   "outputs": [],
   "source": [
    "stops = pd.read_csv(\"Stop_Routes.csv\", index_col=False)\n",
    "redux = pd.read_csv(\"Route_Reductions.csv\", index_col=0)"
   ]
  },
  {
   "cell_type": "code",
   "execution_count": 41,
   "metadata": {},
   "outputs": [],
   "source": [
    "original = redux['Original Count'].to_dict()\n",
    "adjusted = redux['Adjusted Count'].to_dict()"
   ]
  },
  {
   "cell_type": "code",
   "execution_count": 56,
   "metadata": {},
   "outputs": [],
   "source": [
    "orig_buses_per_stop = []\n",
    "adj_buses_per_stop = []\n",
    "for i in range(len(stops)):\n",
    "    n_orig = 0\n",
    "    n_adj = 0\n",
    "    routes = stops.loc[i, \"Routes_ser\"].split(\", \")\n",
    "    for j in routes:\n",
    "        if j  not in ['','DQI','MI']:\n",
    "            j = j.replace(',','')\n",
    "            n_orig += operator.itemgetter(str(j))(original)\n",
    "            n_adj += operator.itemgetter(str(j))(adjusted)\n",
    "    if stops.loc[i, \"Direction\"] != \"Both\":\n",
    "        orig_buses_per_stop.append(n_orig)\n",
    "        adj_buses_per_stop.append(n_adj)\n",
    "    else:\n",
    "        orig_buses_per_stop.append(n_orig*2)\n",
    "        adj_buses_per_stop.append(n_adj*2)\n",
    "stops['orig_bus_count'] = orig_buses_per_stop\n",
    "stops['adj_bus_count'] = adj_buses_per_stop"
   ]
  },
  {
   "cell_type": "code",
   "execution_count": 58,
   "metadata": {},
   "outputs": [],
   "source": [
    "stops.to_csv(\"Buses_per_stop.csv\")"
   ]
  }
 ],
 "metadata": {
  "kernelspec": {
   "display_name": "Python 3",
   "language": "python",
   "name": "python3"
  },
  "language_info": {
   "codemirror_mode": {
    "name": "ipython",
    "version": 3
   },
   "file_extension": ".py",
   "mimetype": "text/x-python",
   "name": "python",
   "nbconvert_exporter": "python",
   "pygments_lexer": "ipython3",
   "version": "3.6.9"
  }
 },
 "nbformat": 4,
 "nbformat_minor": 4
}
