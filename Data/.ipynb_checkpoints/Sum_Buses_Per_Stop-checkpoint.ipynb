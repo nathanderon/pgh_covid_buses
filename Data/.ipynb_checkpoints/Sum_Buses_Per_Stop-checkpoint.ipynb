{
 "cells": [
  {
   "cell_type": "code",
   "execution_count": 34,
   "metadata": {},
   "outputs": [],
   "source": [
    "import pandas as pd\n",
    "import operator\n",
    "from collections import Counter\n",
    "import csv"
   ]
  },
  {
   "cell_type": "code",
   "execution_count": 9,
   "metadata": {},
   "outputs": [],
   "source": [
    "stops = pd.read_csv(\"Stop_Routes.csv\", index_col=False)\n",
    "redux = pd.read_csv(\"Route_Reductions.csv\", index_col=0)"
   ]
  },
  {
   "cell_type": "code",
   "execution_count": 10,
   "metadata": {},
   "outputs": [],
   "source": [
    "original = redux['Original Count'].to_dict()\n",
    "adjusted = redux['Adjusted Count'].to_dict()"
   ]
  },
  {
   "cell_type": "code",
   "execution_count": 13,
   "metadata": {},
   "outputs": [
    {
     "ename": "KeyError",
     "evalue": "'88'",
     "output_type": "error",
     "traceback": [
      "\u001b[1;31m---------------------------------------------------------------------------\u001b[0m",
      "\u001b[1;31mKeyError\u001b[0m                                  Traceback (most recent call last)",
      "\u001b[1;32m<ipython-input-13-bc1730ba9777>\u001b[0m in \u001b[0;36m<module>\u001b[1;34m\u001b[0m\n\u001b[0;32m     12\u001b[0m             \u001b[0mn_orig\u001b[0m \u001b[1;33m+=\u001b[0m \u001b[0moperator\u001b[0m\u001b[1;33m.\u001b[0m\u001b[0mitemgetter\u001b[0m\u001b[1;33m(\u001b[0m\u001b[0mstr\u001b[0m\u001b[1;33m(\u001b[0m\u001b[0mj\u001b[0m\u001b[1;33m)\u001b[0m\u001b[1;33m)\u001b[0m\u001b[1;33m(\u001b[0m\u001b[0moriginal\u001b[0m\u001b[1;33m)\u001b[0m\u001b[1;33m\u001b[0m\u001b[1;33m\u001b[0m\u001b[0m\n\u001b[0;32m     13\u001b[0m             \u001b[0mn_adj\u001b[0m \u001b[1;33m+=\u001b[0m \u001b[0moperator\u001b[0m\u001b[1;33m.\u001b[0m\u001b[0mitemgetter\u001b[0m\u001b[1;33m(\u001b[0m\u001b[0mstr\u001b[0m\u001b[1;33m(\u001b[0m\u001b[0mj\u001b[0m\u001b[1;33m)\u001b[0m\u001b[1;33m)\u001b[0m\u001b[1;33m(\u001b[0m\u001b[0madjusted\u001b[0m\u001b[1;33m)\u001b[0m\u001b[1;33m\u001b[0m\u001b[1;33m\u001b[0m\u001b[0m\n\u001b[1;32m---> 14\u001b[1;33m             \u001b[0mn_covid_ons\u001b[0m \u001b[1;33m+=\u001b[0m \u001b[0moperator\u001b[0m\u001b[1;33m.\u001b[0m\u001b[0mitemgetter\u001b[0m\u001b[1;33m(\u001b[0m\u001b[0mstr\u001b[0m\u001b[1;33m(\u001b[0m\u001b[0mj\u001b[0m\u001b[1;33m)\u001b[0m\u001b[1;33m)\u001b[0m\u001b[1;33m(\u001b[0m\u001b[0mcovid_ons\u001b[0m\u001b[1;33m)\u001b[0m\u001b[1;33m\u001b[0m\u001b[1;33m\u001b[0m\u001b[0m\n\u001b[0m\u001b[0;32m     15\u001b[0m     \u001b[1;32mif\u001b[0m \u001b[0mstops\u001b[0m\u001b[1;33m.\u001b[0m\u001b[0mloc\u001b[0m\u001b[1;33m[\u001b[0m\u001b[0mi\u001b[0m\u001b[1;33m,\u001b[0m \u001b[1;34m\"Direction\"\u001b[0m\u001b[1;33m]\u001b[0m \u001b[1;33m!=\u001b[0m \u001b[1;34m\"Both\"\u001b[0m\u001b[1;33m:\u001b[0m\u001b[1;33m\u001b[0m\u001b[1;33m\u001b[0m\u001b[0m\n\u001b[0;32m     16\u001b[0m         \u001b[0morig_buses_per_stop\u001b[0m\u001b[1;33m.\u001b[0m\u001b[0mappend\u001b[0m\u001b[1;33m(\u001b[0m\u001b[0mn_orig\u001b[0m\u001b[1;33m)\u001b[0m\u001b[1;33m\u001b[0m\u001b[1;33m\u001b[0m\u001b[0m\n",
      "\u001b[1;31mKeyError\u001b[0m: '88'"
     ]
    }
   ],
   "source": [
    "orig_buses_per_stop = []\n",
    "adj_buses_per_stop = []\n",
    "for i in range(len(stops)):\n",
    "    n_orig = 0\n",
    "    n_adj = 0\n",
    "    routes = stops.loc[i, \"Routes_ser\"].split(\", \")\n",
    "    for j in routes:\n",
    "        if j  not in ['','DQI','MI']:\n",
    "            j = j.replace(',','')\n",
    "            n_orig += operator.itemgetter(str(j))(original)\n",
    "            n_adj += operator.itemgetter(str(j))(adjusted)\n",
    "            n_covid_ons += operator.itemgetter(str(j))(conid_ons)\n",
    "    if stops.loc[i, \"Direction\"] != \"Both\":\n",
    "        orig_buses_per_stop.append(n_orig)\n",
    "        adj_buses_per_stop.append(n_adj)\n",
    "    else:\n",
    "        orig_buses_per_stop.append(n_orig*2)\n",
    "        adj_buses_per_stop.append(n_adj*2)\n",
    "stops['orig_bus_count'] = orig_buses_per_stop\n",
    "stops['adj_bus_count'] = adj_buses_per_stop"
   ]
  },
  {
   "cell_type": "code",
   "execution_count": 31,
   "metadata": {},
   "outputs": [],
   "source": [
    "covid_usage = pd.read_csv(\"ons_by_stop_covid.csv\", index_col=False)\n",
    "covid_usage_per_stop = Counter()\n",
    "for i in range(len(covid_usage)):\n",
    "    covid_usage_per_stop[covid_usage.loc[i, \"place_id\"]] += covid_usage.loc[i, \"avg_total_ons\"]"
   ]
  },
  {
   "cell_type": "code",
   "execution_count": 35,
   "metadata": {},
   "outputs": [],
   "source": [
    "covid_stop_usage_agg = open(\"covid_stop_usage_agg.csv\", \"w\")\n",
    "writer = csv.writer(covid_stop_usage_agg)\n",
    "for key, value in covid_usage_per_stop.items():\n",
    "    writer.writerow([key, value])\n",
    "covid_stop_usage_agg.close()"
   ]
  }
 ],
 "metadata": {
  "kernelspec": {
   "display_name": "Python 3",
   "language": "python",
   "name": "python3"
  },
  "language_info": {
   "codemirror_mode": {
    "name": "ipython",
    "version": 3
   },
   "file_extension": ".py",
   "mimetype": "text/x-python",
   "name": "python",
   "nbconvert_exporter": "python",
   "pygments_lexer": "ipython3",
   "version": "3.6.9"
  }
 },
 "nbformat": 4,
 "nbformat_minor": 4
}
